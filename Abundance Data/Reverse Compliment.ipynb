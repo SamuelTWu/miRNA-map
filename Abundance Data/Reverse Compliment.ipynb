{
 "cells": [
  {
   "cell_type": "code",
   "execution_count": 5,
   "metadata": {
    "scrolled": true
   },
   "outputs": [],
   "source": [
    "from numpy import loadtxt\n",
    "import pandas as pd\n",
    "def reverse_compliment(filename, x1, x2):\n",
    "    #import file\n",
    "    filename_data = loadtxt(filename+\".txt\", comments=\">\", delimiter=\"\\z\",dtype=\"str\")\n",
    "    \n",
    "    #substring from x1, x2\n",
    "    filename_data = [sub[x1:x2] for sub in filename_data]\n",
    "\n",
    "    #replace all the U's with T's\n",
    "    filename_data = [sub.replace('U', 'T') for sub in filename_data]\n",
    "\n",
    "    #Replace A with X\n",
    "    filename_data = [sub.replace('A', 'X') for sub in filename_data]\n",
    "    \n",
    "    #Replace T with A\n",
    "    filename_data = [sub.replace('T', 'A') for sub in filename_data]\n",
    "    \n",
    "    #Replace X with T\n",
    "    filename_data = [sub.replace('X', 'T') for sub in filename_data]\n",
    "    \n",
    "    #Replace C with X\n",
    "    filename_data = [sub.replace('C', 'X') for sub in filename_data]\n",
    "    \n",
    "    #Replace G with C\n",
    "    filename_data = [sub.replace('G', 'C') for sub in filename_data]\n",
    "    \n",
    "    #Replace X with G\n",
    "    filename_data = [sub.replace('X', 'G') for sub in filename_data]\n",
    "    \n",
    "    #remove all the N's\n",
    "    for i in filename_data:\n",
    "         if 'N' in i:\n",
    "            filename_data.remove(i)\n",
    "    \n",
    "    #Reverse all the strings\n",
    "    filename_data_reverse = [sub[::-1] for sub in filename_data]\n",
    "    \n",
    "    return filename_data_reverse\n",
    "\n",
    "def print_text(filename, arr):\n",
    "    with open(filename+\".txt\", \"w+\") as file:\n",
    "        for item in arr:\n",
    "            file.write(\"%s\\n\" % item)\n",
    "    file.close()\n",
    "\n",
    "print_text(\"reverse_dre_mature\", reverse_compliment(\"dre_mature\", 1,8))imp"
   ]
  }
 ],
 "metadata": {
  "kernelspec": {
   "display_name": "Python 3",
   "language": "python",
   "name": "python3"
  },
  "language_info": {
   "codemirror_mode": {
    "name": "ipython",
    "version": 3
   },
   "file_extension": ".py",
   "mimetype": "text/x-python",
   "name": "python",
   "nbconvert_exporter": "python",
   "pygments_lexer": "ipython3",
   "version": "3.7.7"
  }
 },
 "nbformat": 4,
 "nbformat_minor": 4
}
