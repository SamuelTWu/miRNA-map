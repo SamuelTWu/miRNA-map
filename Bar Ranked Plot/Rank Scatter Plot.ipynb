{
 "cells": [
  {
   "cell_type": "markdown",
   "metadata": {},
   "source": [
    "## Ranked Scatter Plot\n",
    "In order to better show the frequency in which sequences appear in the data, it is beneficial to plot the sequences in a ranked scatter plot. In our model, the x axis corresponds with the frequency of the 7mer sequence in the UTR data, and the alpha value corresponds to the abundance of the sequence in the mature zebrafish data. "
   ]
  },
  {
   "cell_type": "code",
   "execution_count": 64,
   "metadata": {},
   "outputs": [
    {
     "data": {
      "image/png": "[encoded data removed]",
      "text/plain": [
       "<Figure size 1080x360 with 1 Axes>"
      ]
     },
     "metadata": {
      "needs_background": "light"
     },
     "output_type": "display_data"
    }
   ],
   "source": [
    "import matplotlib.pyplot as plt\n",
    "import numpy as np\n",
    "from numpy import loadtxt\n",
    "import pandas as pd\n",
    "\n",
    "\n",
    "def print_map(filename, map_):\n",
    "    df=pd.DataFrame(map_)\n",
    "    df.to_csv(filename+'.csv', index= False, header = False)\n",
    "\n",
    "def make_rank_plot(filename):\n",
    "    #import the zebrafish dictionary\n",
    "    df = pd.read_csv(filename + \".csv\")\n",
    "   \n",
    "    \n",
    "    #data_dict['abundance of reverse complement'] = (data_arr1 - data_arr1.min())/(data_arr1.max() - data_arr1.min())\n",
    "\n",
    "    plt.figure(figsize=(15, 5))\n",
    "    ax = plt.gca()\n",
    "    ax.invert_xaxis()\n",
    "\n",
    "    for ind in df.index:\n",
    "        plt.axvline(x=df['abundance (Seed)'][ind], color = 'b', alpha = df['abundance (RC)'][ind] / df['abundance (RC)'].max() )\n",
    "        \n",
    "    plt.title(filename+\" Rank\")\n",
    "    plt.savefig(filename+\" Rank\")\n",
    "    plt.show()\n",
    "    \n",
    "\n",
    "make_rank_plot(\"Mature Abundance Data\")"
   ]
  },
  {
   "cell_type": "code",
   "execution_count": null,
   "metadata": {},
   "outputs": [],
   "source": []
  }
 ],
 "metadata": {
  "kernelspec": {
   "display_name": "Python 3",
   "language": "python",
   "name": "python3"
  },
  "language_info": {
   "codemirror_mode": {
    "name": "ipython",
    "version": 3
   },
   "file_extension": ".py",
   "mimetype": "text/x-python",
   "name": "python",
   "nbconvert_exporter": "python",
   "pygments_lexer": "ipython3",
   "version": "3.7.7"
  }
 },
 "nbformat": 4,
 "nbformat_minor": 4
}
