{
 "cells": [
  {
   "cell_type": "markdown",
   "metadata": {},
   "source": [
    "## Minimum Free Energy Plot\n",
    "\n",
    "\"The minimum free energy (MFE) of ribonucleic acids (RNAs) increases at an apparent linear rate with sequence length. Simple indices, obtained by dividing the MFE by the number of nucleotides, have been used for a direct comparison of the folding stability of RNAs of various sizes\" ([Edoardo Trotta](https://www.ncbi.nlm.nih.gov/pmc/articles/PMC4236180/#:~:text=The%20minimum%20free%20energy%20(MFE,of%20RNAs%20of%20various%20sizes)) \\).\n",
    "In this graph, we are comparing the MFE of miRNA seeds present in the zebrafish genome. We hypothesize we will see a uniform distribution of MFE among the miRNA seeds, which would indicate external evolutionary forces acting on the zebrafish genome. \n",
    "\n",
    "To gather the data of all 16384 possible 7mer seeds, we first must create a .csv, which we obtain by flattening our 7mer map:"
   ]
  },
  {
   "cell_type": "code",
   "execution_count": 2,
   "metadata": {},
   "outputs": [],
   "source": [
    "import pandas as pd\n",
    "import matplotlib as mpl\n",
    "from matplotlib import pyplot as plt\n",
    "import numpy as np\n",
    "from collections import Counter\n",
    "from matplotlib.colors import SymLogNorm, LogNorm"
   ]
  },
  {
   "cell_type": "code",
   "execution_count": 26,
   "metadata": {},
   "outputs": [],
   "source": [
    "def print_map(filename, map_):\n",
    "    df=pd.DataFrame(map_)\n",
    "    df.to_csv(filename+'.csv', index= False, header = False)"
   ]
  },
  {
   "cell_type": "code",
   "execution_count": 5,
   "metadata": {},
   "outputs": [],
   "source": [
    "df = pd.read_csv(\"AGTC-7seq.csv\", header = None)\n",
    "data_arr = np.array(df).flatten()\n",
    "print_map(\"7seq list\", data_arr)"
   ]
  },
  {
   "cell_type": "markdown",
   "metadata": {},
   "source": [
    "In order to obtain the seed matches for each sequence, we transfer the .csv data into a .txt. This allows us to output the seed matches in \"7seq match list', which we then transfer back into the .csv. "
   ]
  },
  {
   "cell_type": "code",
   "execution_count": 7,
   "metadata": {},
   "outputs": [],
   "source": [
    "from numpy import loadtxt\n",
    "import pandas as pd\n",
    "def reverse_compliment(filename):\n",
    "    #import file\n",
    "    filename_data = loadtxt(filename+\".txt\", comments=\">\", delimiter=\"\\z\",dtype=\"str\")\n",
    "\n",
    "\n",
    "    #Replace A with X\n",
    "    filename_data = [sub.replace('A', 'X') for sub in filename_data]\n",
    "    \n",
    "    #Replace T with A\n",
    "    filename_data = [sub.replace('T', 'A') for sub in filename_data]\n",
    "    \n",
    "    #Replace X with T\n",
    "    filename_data = [sub.replace('X', 'T') for sub in filename_data]\n",
    "    \n",
    "    #Replace C with X\n",
    "    filename_data = [sub.replace('C', 'X') for sub in filename_data]\n",
    "    \n",
    "    #Replace G with C\n",
    "    filename_data = [sub.replace('G', 'C') for sub in filename_data]\n",
    "    \n",
    "    #Replace X with G\n",
    "    filename_data = [sub.replace('X', 'G') for sub in filename_data]\n",
    "    \n",
    "    #Reverse all the strings\n",
    "    filename_data_reverse = [sub[::-1] for sub in filename_data]\n",
    "    \n",
    "    return filename_data_reverse\n",
    "\n",
    "def print_text(filename, arr):\n",
    "    with open(filename+\".txt\", \"w+\") as file:\n",
    "        for item in arr:\n",
    "            file.write(\"%s\\n\" % item)\n",
    "    file.close()\n",
    "\n",
    "print_text(\"7seq match list\", reverse_compliment(\"7seq\"))"
   ]
  },
  {
   "cell_type": "markdown",
   "metadata": {},
   "source": [
    "We will be using RNAcofold from the ViennaRNA software to compute the MFE of each pair. Because of this, certain formatting is needed, specifically, we place an '&' character between each seed and corresponding match. Once that is complete, we transfer our data into data.txt to be processed by RNAcofold. "
   ]
  },
  {
   "cell_type": "markdown",
   "metadata": {},
   "source": [
    "_________________________________________________\n",
    "#### A quick interjection about ViennaRNA:\n",
    "\n",
    "I pretty much hated the ViennaRNA documentation. I get that the people providing the software probably have better things to do then tell some randos how to use their software, but I dont have better things to do, so here was my process of downloading it: ViennaRNA has software available for Windows and Mac, but its essentially useless to compute the large amount of data we need.  Instead, I reccomend installing wsl [here](https://docs.microsoft.com/en-us/windows/wsl/install) in order to use linux on your machine. Then, download ViennaRNA [here](https://www.tbi.univie.ac.at/RNA/index.html) and install whatever packages needed using apk-get. (If you have trouble directing to the directory in the ubuntu machine, use [this](https://askubuntu.com/questions/759880/where-is-the-ubuntu-file-system-root-directory-in-windows-subsystem-for-linux-an) link to cd to the download folder). Finally, follow install instructions [here](https://www.tbi.univie.ac.at/RNA/documentation.html). \n",
    "___________________________________________________"
   ]
  },
  {
   "cell_type": "markdown",
   "metadata": {},
   "source": [
    "Once ViennaRNA has been properly configured, place data.txt in folder and run this command in the ubuntu terminal:\n",
    "\n",
    "                $RNAcofold --output-format D --csv-delim $'\\t' <data.txt> data_out.txt\n",
    "                \n",
    "I transfered the data_out.txt to a .csv, which tabulated everything automatically. \"MFE Data.csv\" contains the 7mer seeds, corresponding seed matches, and the calculated MFEs. I then used that data to produce these plots:"
   ]
  },
  {
   "cell_type": "code",
   "execution_count": 18,
   "metadata": {},
   "outputs": [
    {
     "data": {
      "image/png": "[encoded data removed]",
      "text/plain": [
       "<Figure size 1080x360 with 1 Axes>"
      ]
     },
     "metadata": {
      "needs_background": "light"
     },
     "output_type": "display_data"
    }
   ],
   "source": [
    "def make_rank_plot(filename):\n",
    "    #import the zebrafish dictionary\n",
    "    df = pd.read_csv(filename + \".csv\")\n",
    "\n",
    "    plt.figure(figsize=(15, 5))\n",
    "    ax = plt.gca()\n",
    "    ax.invert_xaxis()\n",
    "\n",
    "    for ind in df.index:\n",
    "        plt.axvline(x=df['MFE'][ind], color = 'b' )\n",
    "        \n",
    "    plt.title(filename+\" Rank\")\n",
    "    plt.savefig(filename+\" Rank\")\n",
    "    plt.show()\n",
    "    \n",
    "\n",
    "make_rank_plot(\"MFE Data\")"
   ]
  },
  {
   "cell_type": "markdown",
   "metadata": {},
   "source": [
    "Now to highlight the mature seeds:"
   ]
  },
  {
   "cell_type": "code",
   "execution_count": 11,
   "metadata": {},
   "outputs": [],
   "source": [
    "from numpy import loadtxt\n",
    "import pandas as pd\n",
    "def getSeed(filename, x1, x2):\n",
    "    #import file\n",
    "    filename_data = loadtxt(filename+\".txt\", comments=\">\", delimiter=\"\\z\",dtype=\"str\")\n",
    "    \n",
    "    #substring from x1, x2\n",
    "    filename_data = [sub[x1:x2] for sub in filename_data]\n",
    "\n",
    "    return filename_data\n",
    "\n",
    "def print_text(filename, arr):\n",
    "    with open(filename+\".txt\", \"w+\") as file:\n",
    "        for item in arr:\n",
    "            file.write(\"%s\\n\" % item)\n",
    "    file.close()\n",
    "\n",
    "print_text(\"dre_mature_seeds\", getSeed(\"dre_mature\", 1,8))"
   ]
  },
  {
   "cell_type": "code",
   "execution_count": 20,
   "metadata": {},
   "outputs": [
    {
     "data": {
      "image/png": "[encoded data removed]",
      "text/plain": [
       "<Figure size 1080x360 with 1 Axes>"
      ]
     },
     "metadata": {
      "needs_background": "light"
     },
     "output_type": "display_data"
    }
   ],
   "source": [
    "def make_seed_rank_plot(filename):\n",
    "    \n",
    "    filename_data = loadtxt(\"dre_mature_seeds\"+\".txt\", comments=\">\", delimiter=\"\\z\",dtype=\"str\")\n",
    "    \n",
    "    seed_list = [sub.replace('U', 'T') for sub in filename_data]\n",
    "    \n",
    "    #import the zebrafish dictionary\n",
    "    df = pd.read_csv(filename + \".csv\")\n",
    "\n",
    "    plt.figure(figsize=(15, 5))\n",
    "    ax = plt.gca()\n",
    "    ax.invert_xaxis()\n",
    "\n",
    "    for ind in df.index:\n",
    "        if(df['Seed'][ind] in seed_list):\n",
    "            plt.axvline(x=df['MFE'][ind], color = 'b')\n",
    "        \n",
    "    plt.title(filename+\"Seed Rank\")\n",
    "    plt.savefig(filename+\"Seed Rank\")\n",
    "    plt.show()\n",
    "    \n",
    "make_seed_rank_plot(\"MFE Data\")"
   ]
  },
  {
   "cell_type": "code",
   "execution_count": 24,
   "metadata": {},
   "outputs": [
    {
     "data": {
      "image/png": "[encoded data removed]",
      "text/plain": [
       "<Figure size 1080x360 with 1 Axes>"
      ]
     },
     "metadata": {
      "needs_background": "light"
     },
     "output_type": "display_data"
    }
   ],
   "source": [
    "def make_highlight_plot(filename):\n",
    "    \n",
    "    filename_data = loadtxt(\"dre_mature_seeds\"+\".txt\", comments=\">\", delimiter=\"\\z\",dtype=\"str\")\n",
    "    \n",
    "    seed_list = [sub.replace('U', 'T') for sub in filename_data]\n",
    "    \n",
    "    #import the zebrafish dictionary\n",
    "    df = pd.read_csv(filename + \".csv\")\n",
    "\n",
    "    plt.figure(figsize=(15, 5))\n",
    "    ax = plt.gca()\n",
    "    ax.invert_xaxis()\n",
    "\n",
    "    for ind in df.index:\n",
    "        if(df['Seed'][ind] in seed_list):\n",
    "            plt.axvline(x=df['MFE'][ind], color = 'b' )\n",
    "        else:\n",
    "            plt.axvline(x=df['MFE'][ind], color = 'r',alpha=.05 )\n",
    "        \n",
    "    plt.title(\"MFE Combined Data\")\n",
    "    plt.savefig(\"MFE Combined Data\")\n",
    "    plt.show()\n",
    "    \n",
    "make_highlight_plot(\"MFE Data\")"
   ]
  },
  {
   "cell_type": "markdown",
   "metadata": {},
   "source": [
    "### Seed Abundance plots\n",
    "The code below takes the seed abundance data from the Bar Ranked Plot project and transfers the data into a .txt. This information is present in columns D and E in \"MFE Data\". "
   ]
  },
  {
   "cell_type": "code",
   "execution_count": 164,
   "metadata": {},
   "outputs": [],
   "source": [
    "def print_seed_abundance(filename1):\n",
    "    arr = []\n",
    "    \n",
    "    seed_abundance_dict = get_dict(\"Seed Abundance\")\n",
    "    \n",
    "    df_mfe = pd.read_csv(filename1 + \".csv\")\n",
    "\n",
    "    for ind in df_mfe.index:\n",
    "        if(df_mfe['Seed'][ind] in seed_abundance_dict):\n",
    "            arr.append(seed_abundance_dict[df_mfe['Seed'][ind]])\n",
    "        else:\n",
    "            arr.append(0)\n",
    "       \n",
    "    print_text(\"seed abundance\", arr)\n",
    "    \n",
    "    \n",
    "def print_match_abundance(filename1):\n",
    "    arr = []\n",
    "    seed_match_dict = get_dict(\"Seed Match Abundance\")\n",
    "    \n",
    "    df_mfe = pd.read_csv(filename1 + \".csv\")\n",
    "\n",
    "    for ind in df_mfe.index:\n",
    "        if(df_mfe['Seed Match'][ind] in seed_match_dict):\n",
    "            arr.append(seed_match_dict[df_mfe['Seed Match'][ind]])\n",
    "        else:\n",
    "            arr.append(0)\n",
    "       \n",
    "    print_text(\"seed match abundance\", arr)\n",
    "    \n",
    "    \n",
    "print_seed_abundance(\"MFE Data\")\n",
    "print_match_abundance(\"MFE Data\")"
   ]
  },
  {
   "cell_type": "code",
   "execution_count": 212,
   "metadata": {},
   "outputs": [],
   "source": [
    "import csv\n",
    "from numpy import loadtxt\n",
    "def get_dict(filename):\n",
    "    dict_from_csv = {}\n",
    "\n",
    "    with open(filename+'.csv', mode='r') as inp:\n",
    "        reader = csv.reader(inp)\n",
    "        dict_from_csv = {rows[0]:rows[1] for rows in reader}\n",
    "    return dict_from_csv\n",
    "\n",
    "def normalize_dict(d):\n",
    "    \n",
    "    _max = 0\n",
    "    for i in d.values():\n",
    "        if(float(i)>_max):\n",
    "            _max = float(i)      \n",
    "    _min = 1\n",
    "    for i in d.values():\n",
    "        if(float(i)<_min):\n",
    "            _min = float(i)\n",
    "    for k in d:\n",
    "        d[k] = (float(d[k])-_min)/(_max-_min)\n",
    "        \n",
    "    return d\n",
    "\n",
    "def sigmoid(x):\n",
    "        e = np.exp(1)\n",
    "        y = 1/(1+e**(-x))\n",
    "        return y"
   ]
  },
  {
   "cell_type": "code",
   "execution_count": 221,
   "metadata": {},
   "outputs": [
    {
     "data": {
      "image/png": "[encoded data removed]",
      "text/plain": [
       "<Figure size 1080x360 with 2 Axes>"
      ]
     },
     "metadata": {
      "needs_background": "light"
     },
     "output_type": "display_data"
    }
   ],
   "source": [
    "def make_seed_abundance_rank_plot(filename1):\n",
    "    #import the zebrafish dictionary\n",
    "    df_mfe = pd.read_csv(filename1 + \".csv\")\n",
    "   \n",
    "    plt.figure(figsize=(15, 5))\n",
    "    ax = plt.gca()\n",
    "    ax.invert_xaxis()\n",
    "    \n",
    "    #creating colormap\n",
    "    cmap = mpl.cm.get_cmap('magma')\n",
    "    \n",
    "   \n",
    "    df_mfe['Seed Abundance'] = sigmoid(df_mfe['Seed Abundance'])\n",
    "    \n",
    "    seed_dict = get_dict(\"Seed Abundance\")\n",
    "    \n",
    "\n",
    "    for ind in df_mfe.index:\n",
    "        if(df_mfe['Seed'][ind] in seed_dict):\n",
    "            plt.axvline(x=df_mfe['MFE'][ind], color = cmap(df_mfe['Seed Abundance'][ind]))\n",
    "            \n",
    "    norm = mpl.colors.Normalize(vmin=df_mfe['Seed Abundance'].min(), vmax=df_mfe['Seed Abundance'].max())\n",
    "    sm = plt.cm.ScalarMappable(cmap=cmap, norm = norm)\n",
    "    plt.colorbar(sm)\n",
    "\n",
    "\n",
    "    plt.title(filename1+\" Seed Abundance Rank\")\n",
    "    plt.savefig(filename1+\" Seed Abundance Rank\")\n",
    "    plt.show()\n",
    "    \n",
    "make_seed_abundance_rank_plot(\"MFE Data\")"
   ]
  },
  {
   "cell_type": "code",
   "execution_count": 1,
   "metadata": {},
   "outputs": [
    {
     "ename": "NameError",
     "evalue": "name 'pd' is not defined",
     "output_type": "error",
     "traceback": [
      "\u001b[1;31m---------------------------------------------------------------------------\u001b[0m",
      "\u001b[1;31mNameError\u001b[0m                                 Traceback (most recent call last)",
      "\u001b[1;32m<ipython-input-1-fe2f36d2c2af>\u001b[0m in \u001b[0;36m<module>\u001b[1;34m\u001b[0m\n\u001b[0;32m     26\u001b[0m     \u001b[0mplt\u001b[0m\u001b[1;33m.\u001b[0m\u001b[0mshow\u001b[0m\u001b[1;33m(\u001b[0m\u001b[1;33m)\u001b[0m\u001b[1;33m\u001b[0m\u001b[1;33m\u001b[0m\u001b[0m\n\u001b[0;32m     27\u001b[0m \u001b[1;33m\u001b[0m\u001b[0m\n\u001b[1;32m---> 28\u001b[1;33m \u001b[0mmake_seed_match_abundance_rank_plot\u001b[0m\u001b[1;33m(\u001b[0m\u001b[1;34m\"MFE Data\"\u001b[0m\u001b[1;33m)\u001b[0m\u001b[1;33m\u001b[0m\u001b[1;33m\u001b[0m\u001b[0m\n\u001b[0m",
      "\u001b[1;32m<ipython-input-1-fe2f36d2c2af>\u001b[0m in \u001b[0;36mmake_seed_match_abundance_rank_plot\u001b[1;34m(filename1)\u001b[0m\n\u001b[0;32m      1\u001b[0m \u001b[1;32mdef\u001b[0m \u001b[0mmake_seed_match_abundance_rank_plot\u001b[0m\u001b[1;33m(\u001b[0m\u001b[0mfilename1\u001b[0m\u001b[1;33m)\u001b[0m\u001b[1;33m:\u001b[0m\u001b[1;33m\u001b[0m\u001b[1;33m\u001b[0m\u001b[0m\n\u001b[0;32m      2\u001b[0m     \u001b[1;31m#import the zebrafish dictionary\u001b[0m\u001b[1;33m\u001b[0m\u001b[1;33m\u001b[0m\u001b[1;33m\u001b[0m\u001b[0m\n\u001b[1;32m----> 3\u001b[1;33m     \u001b[0mdf_mfe\u001b[0m \u001b[1;33m=\u001b[0m \u001b[0mpd\u001b[0m\u001b[1;33m.\u001b[0m\u001b[0mread_csv\u001b[0m\u001b[1;33m(\u001b[0m\u001b[0mfilename1\u001b[0m \u001b[1;33m+\u001b[0m \u001b[1;34m\".csv\"\u001b[0m\u001b[1;33m)\u001b[0m\u001b[1;33m\u001b[0m\u001b[1;33m\u001b[0m\u001b[0m\n\u001b[0m\u001b[0;32m      4\u001b[0m \u001b[1;33m\u001b[0m\u001b[0m\n\u001b[0;32m      5\u001b[0m     \u001b[0mplt\u001b[0m\u001b[1;33m.\u001b[0m\u001b[0mfigure\u001b[0m\u001b[1;33m(\u001b[0m\u001b[0mfigsize\u001b[0m\u001b[1;33m=\u001b[0m\u001b[1;33m(\u001b[0m\u001b[1;36m15\u001b[0m\u001b[1;33m,\u001b[0m \u001b[1;36m5\u001b[0m\u001b[1;33m)\u001b[0m\u001b[1;33m)\u001b[0m\u001b[1;33m\u001b[0m\u001b[1;33m\u001b[0m\u001b[0m\n",
      "\u001b[1;31mNameError\u001b[0m: name 'pd' is not defined"
     ]
    }
   ],
   "source": [
    "def make_seed_match_abundance_rank_plot(filename1):\n",
    "    #import the zebrafish dictionary\n",
    "    df_mfe = pd.read_csv(filename1 + \".csv\")\n",
    "   \n",
    "    plt.figure(figsize=(15, 5))\n",
    "    ax = plt.gca()\n",
    "    ax.invert_xaxis()\n",
    "    \n",
    "    #creating colormap\n",
    "    cmap = mpl.cm.get_cmap('magma')\n",
    "    \n",
    "    df_mfe['Seed Match Abundance'] = sigmoid(df_mfe['Seed Match Abundance'])\n",
    "    seed_match_dict = get_dict(\"Seed Match Abundance\")\n",
    "\n",
    "    for ind in df_mfe.index:\n",
    "        if(df_mfe['Seed'][ind] in seed_match_dict):\n",
    "            plt.axvline(x=df_mfe['MFE'][ind], color = cmap(df_mfe['Seed Match Abundance'][ind]))\n",
    "            \n",
    "    norm = mpl.colors.Normalize(vmin=df_mfe['Seed Match Abundance'].min(), vmax=df_mfe['Seed Match Abundance'].max())\n",
    "    sm = plt.cm.ScalarMappable(cmap=cmap, norm = norm)\n",
    "    plt.colorbar(sm)\n",
    "\n",
    "\n",
    "    plt.title(filename1+\" Seed Match Abundance Rank\")\n",
    "    plt.savefig(filename1+\" Seed Match Abundance Rank\")\n",
    "    plt.show()\n",
    "    \n",
    "make_seed_match_abundance_rank_plot(\"MFE Data\")"
   ]
  },
  {
   "cell_type": "markdown",
   "metadata": {},
   "source": [
    "### MFE Abundance Plots"
   ]
  },
  {
   "cell_type": "code",
   "execution_count": 196,
   "metadata": {},
   "outputs": [
    {
     "data": {
      "image/png": "[encoded data removed]",
      "text/plain": [
       "<Figure size 1080x360 with 2 Axes>"
      ]
     },
     "metadata": {
      "needs_background": "light"
     },
     "output_type": "display_data"
    }
   ],
   "source": [
    "def make_abundance_plot(filename1):\n",
    "    #import the zebrafish dictionary\n",
    "    df_mfe = pd.read_csv(filename1 + \".csv\")\n",
    "    \n",
    "    mfe_dict = Counter(df_mfe['MFE'])\n",
    "\n",
    "    plt.figure(figsize=(15, 5))\n",
    "    ax = plt.gca()\n",
    "    ax.invert_xaxis()\n",
    "    \n",
    "    #creating colormap\n",
    "    cmap = mpl.cm.get_cmap('magma')\n",
    "\n",
    "    for ind in df_mfe.index:\n",
    "        if(df_mfe['Seed Match Abundance'][ind] != 0):\n",
    "            plt.axvline(x=df_mfe['MFE'][ind], color = cmap(mfe_dict[df_mfe['MFE'][ind]]))\n",
    "            \n",
    "    norm = mpl.colors.Normalize(vmin=df_mfe['MFE'].min(), vmax=df_mfe['MFE'].max())\n",
    "    sm = plt.cm.ScalarMappable(cmap=cmap, norm = norm)\n",
    "    plt.colorbar(sm)\n",
    "\n",
    "\n",
    "    plt.title(filename1+\" Abundance Rank\")\n",
    "    plt.savefig(filename1+\" Abundance Rank\")\n",
    "    plt.show()\n",
    "    \n",
    "make_abundance_plot(\"MFE Data\")"
   ]
  }
 ],
 "metadata": {
  "kernelspec": {
   "display_name": "Python 3",
   "language": "python",
   "name": "python3"
  },
  "language_info": {
   "codemirror_mode": {
    "name": "ipython",
    "version": 3
   },
   "file_extension": ".py",
   "mimetype": "text/x-python",
   "name": "python",
   "nbconvert_exporter": "python",
   "pygments_lexer": "ipython3",
   "version": "3.7.7"
  }
 },
 "nbformat": 4,
 "nbformat_minor": 4
}
