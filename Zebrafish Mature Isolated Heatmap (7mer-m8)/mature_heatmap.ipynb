{
 "cells": [
  {
   "cell_type": "markdown",
   "metadata": {},
   "source": [
    "## Zebrafish_Mature miRNA Isolated Heatmap\n",
    "This is the same heatmap as the Zebrafish_mature miRNA Seed Heatmap, but only miRNA that are present in the Zebrafish genome are shown. "
   ]
  },
  {
   "cell_type": "code",
   "execution_count": 4,
   "metadata": {},
   "outputs": [],
   "source": [
    "import pandas as pd\n",
    "import matplotlib as mpl\n",
    "from matplotlib import pyplot as plt\n",
    "\n",
    "import numpy as np\n",
    "from numpy import loadtxt\n",
    "\n",
    "from collections import Counter\n",
    "\n",
    "from sklearn import preprocessing\n",
    "\n",
    "SIZE = 7\n",
    "def sequence_count(string, dictionary):\n",
    "    for i in range(len(string)-(SIZE-1)):\n",
    "        temp_seq = string[i:i+(SIZE)]\n",
    "        dictionary[temp_seq]+= 1\n",
    "    return dictionary\n",
    "\n",
    "def print_map(filename, map_):\n",
    "    df=pd.DataFrame(map_)\n",
    "    df.to_csv(filename+'.csv', index= False, header = False)\n",
    "\n"
   ]
  },
  {
   "cell_type": "markdown",
   "metadata": {},
   "source": [
    "The first step it to take the dre_mature.txt and return a list of seeds. They are saved into file \"dre_mature_seeds.txt\""
   ]
  },
  {
   "cell_type": "code",
   "execution_count": 2,
   "metadata": {},
   "outputs": [],
   "source": [
    "from numpy import loadtxt\n",
    "import pandas as pd\n",
    "def getSeed(filename, x1, x2):\n",
    "    #import file\n",
    "    filename_data = loadtxt(filename+\".txt\", comments=\">\", delimiter=\"\\z\",dtype=\"str\")\n",
    "    \n",
    "    #substring from x1, x2\n",
    "    filename_data = [sub[x1:x2] for sub in filename_data]\n",
    "\n",
    "    return filename_data\n",
    "\n",
    "def print_text(filename, arr):\n",
    "    with open(filename+\".txt\", \"w+\") as file:\n",
    "        for item in arr:\n",
    "            file.write(\"%s\\n\" % item)\n",
    "    file.close()\n",
    "\n",
    "print_text(\"dre_mature_seeds\", getSeed(\"dre_mature\", 1,8))"
   ]
  },
  {
   "cell_type": "markdown",
   "metadata": {},
   "source": [
    "Next we generate the seed-matches using the dr_mature_seeds. The seed matches will be present in the Zebrafish genome. "
   ]
  },
  {
   "cell_type": "code",
   "execution_count": 2,
   "metadata": {},
   "outputs": [],
   "source": [
    "from numpy import loadtxt\n",
    "import pandas as pd\n",
    "def reverse_compliment(filename):\n",
    "    #import file\n",
    "    filename_data = loadtxt(filename+\".txt\", comments=\">\", delimiter=\"\\z\",dtype=\"str\")\n",
    "\n",
    "\n",
    "    #Replace A with X\n",
    "    filename_data = [sub.replace('A', 'X') for sub in filename_data]\n",
    "    \n",
    "    #Replace T with A\n",
    "    filename_data = [sub.replace('U', 'A') for sub in filename_data]\n",
    "    \n",
    "    #Replace X with T\n",
    "    filename_data = [sub.replace('X', 'U') for sub in filename_data]\n",
    "    \n",
    "    #Replace C with X\n",
    "    filename_data = [sub.replace('C', 'X') for sub in filename_data]\n",
    "    \n",
    "    #Replace G with C\n",
    "    filename_data = [sub.replace('G', 'C') for sub in filename_data]\n",
    "    \n",
    "    #Replace X with G\n",
    "    filename_data = [sub.replace('X', 'G') for sub in filename_data]\n",
    "    \n",
    "    #Reverse all the strings\n",
    "    filename_data_reverse = [sub[::-1] for sub in filename_data]\n",
    "    \n",
    "    return filename_data_reverse\n",
    "\n",
    "def print_text(filename, arr):\n",
    "    with open(filename+\".txt\", \"w+\") as file:\n",
    "        for item in arr:\n",
    "            file.write(\"%s\\n\" % item)\n",
    "    file.close()\n",
    "\n",
    "print_text(\"dre_mature_match\", reverse_compliment(\"dre_mature_seeds\"))"
   ]
  },
  {
   "cell_type": "markdown",
   "metadata": {},
   "source": [
    "Using the 7seq map from the Zebrafish Seed Match project, we can create a heatmap with the abundance of seeds. In this map, all values of zero are black. "
   ]
  },
  {
   "cell_type": "code",
   "execution_count": 1,
   "metadata": {},
   "outputs": [
    {
     "ename": "NameError",
     "evalue": "name 'loadtxt' is not defined",
     "output_type": "error",
     "traceback": [
      "\u001b[1;31m---------------------------------------------------------------------------\u001b[0m",
      "\u001b[1;31mNameError\u001b[0m                                 Traceback (most recent call last)",
      "\u001b[1;32m<ipython-input-1-b4f041a87bbf>\u001b[0m in \u001b[0;36m<module>\u001b[1;34m\u001b[0m\n\u001b[0;32m     48\u001b[0m     \u001b[0mplt\u001b[0m\u001b[1;33m.\u001b[0m\u001b[0mshow\u001b[0m\u001b[1;33m(\u001b[0m\u001b[1;33m)\u001b[0m\u001b[1;33m\u001b[0m\u001b[1;33m\u001b[0m\u001b[0m\n\u001b[0;32m     49\u001b[0m \u001b[1;33m\u001b[0m\u001b[0m\n\u001b[1;32m---> 50\u001b[1;33m \u001b[0mmake_map\u001b[0m\u001b[1;33m(\u001b[0m\u001b[1;34m\"dre_mature_match\"\u001b[0m\u001b[1;33m)\u001b[0m\u001b[1;33m\u001b[0m\u001b[1;33m\u001b[0m\u001b[0m\n\u001b[0m",
      "\u001b[1;32m<ipython-input-1-b4f041a87bbf>\u001b[0m in \u001b[0;36mmake_map\u001b[1;34m(filename)\u001b[0m\n\u001b[0;32m      1\u001b[0m \u001b[1;32mdef\u001b[0m \u001b[0mmake_map\u001b[0m\u001b[1;33m(\u001b[0m\u001b[0mfilename\u001b[0m\u001b[1;33m)\u001b[0m\u001b[1;33m:\u001b[0m\u001b[1;33m\u001b[0m\u001b[1;33m\u001b[0m\u001b[0m\n\u001b[1;32m----> 2\u001b[1;33m     \u001b[0mfilename_data\u001b[0m \u001b[1;33m=\u001b[0m \u001b[0mloadtxt\u001b[0m\u001b[1;33m(\u001b[0m\u001b[0mfilename\u001b[0m\u001b[1;33m+\u001b[0m\u001b[1;34m\".txt\"\u001b[0m\u001b[1;33m,\u001b[0m \u001b[0mcomments\u001b[0m\u001b[1;33m=\u001b[0m\u001b[1;34m\">\"\u001b[0m\u001b[1;33m,\u001b[0m \u001b[0mdelimiter\u001b[0m\u001b[1;33m=\u001b[0m\u001b[1;34m\"\\z\"\u001b[0m\u001b[1;33m,\u001b[0m\u001b[0mdtype\u001b[0m\u001b[1;33m=\u001b[0m\u001b[1;34m\"str\"\u001b[0m\u001b[1;33m)\u001b[0m\u001b[1;33m\u001b[0m\u001b[1;33m\u001b[0m\u001b[0m\n\u001b[0m\u001b[0;32m      3\u001b[0m \u001b[1;33m\u001b[0m\u001b[0m\n\u001b[0;32m      4\u001b[0m \u001b[1;33m\u001b[0m\u001b[0m\n\u001b[0;32m      5\u001b[0m     \u001b[1;31m#create the dictionary\u001b[0m\u001b[1;33m\u001b[0m\u001b[1;33m\u001b[0m\u001b[1;33m\u001b[0m\u001b[0m\n",
      "\u001b[1;31mNameError\u001b[0m: name 'loadtxt' is not defined"
     ]
    }
   ],
   "source": [
    "def make_map(filename):\n",
    "    filename_data = loadtxt(filename+\".txt\", comments=\">\", delimiter=\"\\z\",dtype=\"str\")\n",
    "    \n",
    "   \n",
    "    #create the dictionary\n",
    "    df = pd.read_csv(\"AGTC-7seq.csv\", header = None)\n",
    "    data_arr = np.array(df).flatten()\n",
    "\n",
    "    data_dict = {data_arr[i]: 0 for i in range(0, len(data_arr))}\n",
    "\n",
    "    #Update the dictionary:\n",
    "    for i in filename_data:\n",
    "        data_dict= sequence_count(i,data_dict)\n",
    "\n",
    "    #Convert dictionary back into 1D array\n",
    "    data_arr1 = np.array(list(data_dict.values()))\n",
    "\n",
    "    #Convert 1D array back into a 2D array\n",
    "    data_arr2 = np.reshape(data_arr1, (2**SIZE,2**SIZE))\n",
    "\n",
    "    #save the map as a csv\n",
    "    print_map(filename+\"_map\", data_arr2)\n",
    "\n",
    "    #map 2D array\n",
    "    df = pd.read_csv(filename+\"_map.csv\", header = None)\n",
    "    \n",
    "    #set all 0s to black\n",
    "    df= np.ma.masked_where(df<0.5, df)\n",
    "    cmap_reds = mpl.cm.get_cmap(\"Reds\")\n",
    "    cmap_reds.set_bad(color='black')\n",
    "\n",
    "     #standardized the data with mean and std, then putting it through a sigmoid function \n",
    "    def sigmoid(x):\n",
    "        e = np.exp(1)\n",
    "        y = 1/(1+e**(-x))\n",
    "        return y\n",
    "\n",
    "    df = (df - df.mean())/(df.std())\n",
    "    \n",
    "    df = sigmoid(df)\n",
    "\n",
    "    fig = plt.figure(figsize=(25,25))\n",
    "    plt.imshow(df,cmap=cmap_reds)\n",
    "    plt.rc('font', size=20)\n",
    "    plt.title(filename+\" Map\")\n",
    "    plt.colorbar()\n",
    "    plt.savefig(filename+\" Map\")\n",
    "    plt.show()\n",
    "    \n",
    "make_map(\"dre_mature_match\")"
   ]
  },
  {
   "cell_type": "code",
   "execution_count": null,
   "metadata": {},
   "outputs": [],
   "source": []
  }
 ],
 "metadata": {
  "kernelspec": {
   "display_name": "Python 3",
   "language": "python",
   "name": "python3"
  },
  "language_info": {
   "codemirror_mode": {
    "name": "ipython",
    "version": 3
   },
   "file_extension": ".py",
   "mimetype": "text/x-python",
   "name": "python",
   "nbconvert_exporter": "python",
   "pygments_lexer": "ipython3",
   "version": "3.7.7"
  }
 },
 "nbformat": 4,
 "nbformat_minor": 4
}
