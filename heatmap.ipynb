{
 "cells": [
  {
   "cell_type": "code",
   "execution_count": 199,
   "metadata": {},
   "outputs": [],
   "source": [
    "import pandas as pd\n",
    "\n",
    "from matplotlib import pyplot as plt\n",
    "import numpy as np\n",
    "from collections import Counter\n",
    "\n"
   ]
  },
  {
   "cell_type": "code",
   "execution_count": 220,
   "metadata": {},
   "outputs": [],
   "source": [
    "#Generate tables (the order of the char in arr will affect the list outputted)\n",
    "\n",
    "def list_generate(char):\n",
    "    arr = ['a','t','c','g']\n",
    "    list_= []\n",
    "\n",
    "    for a in arr:\n",
    "        for b in arr:\n",
    "            for c in arr:\n",
    "                for d in arr:\n",
    "                    for e in arr:\n",
    "                        for f in arr:\n",
    "                            for g in arr:\n",
    "                                for h in arr:\n",
    "                                    str = a+b+c+d+e+f+g+h\n",
    "                                    res = Counter(str)\n",
    "                                    res = max(res, key = res.get)\n",
    "                                    if(res==char):\n",
    "                                        list_.append(str)\n",
    "                                    \n",
    "    #sort the array by char frequency\n",
    "\n",
    "    return sorted(list_, key = lambda ele: -ele.count(char))\n"
   ]
  },
  {
   "cell_type": "code",
   "execution_count": 221,
   "metadata": {},
   "outputs": [],
   "source": [
    "#generate 2d array from 1d list, print to .csv\n",
    "def map_generate(list_, table_size):\n",
    "    map_ = [[0 for i in range(table_size)] for j in range(table_size)]\n",
    "    counter = 0;\n",
    "    number = 0\n",
    "    \n",
    "    while(number < table_size*2):\n",
    "        for i in range(0,table_size):\n",
    "            for j in range(0,table_size):\n",
    "                if (j+i==number):\n",
    "                    map_[i][j]=list_[counter]\n",
    "                    counter+=1\n",
    "        number+=1\n",
    "    return map_"
   ]
  },
  {
   "cell_type": "code",
   "execution_count": 224,
   "metadata": {},
   "outputs": [],
   "source": [
    "#print map\n",
    "def print_map(filename, map_):\n",
    "    df=pd.DataFrame(map_)\n",
    "    df.to_csv(filename+'.csv', index= False, header = False)\n"
   ]
  },
  {
   "cell_type": "code",
   "execution_count": 232,
   "metadata": {},
   "outputs": [],
   "source": [
    "#print 90 deg anticlockwise rotation of matrix\n",
    "def rotate_map(map_, rotations):\n",
    "    df= pd.DataFrame(map_)\n",
    "    for i in range(0,rotations%4):\n",
    "        df = df.T\n",
    "        df = df.loc[::-1]\n",
    "    return df\n",
    "\n"
   ]
  },
  {
   "cell_type": "code",
   "execution_count": 234,
   "metadata": {},
   "outputs": [],
   "source": [
    "list_a = list_generate('a')\n",
    "list_c = list_generate('c')\n",
    "list_g = list_generate('g')\n",
    "list_t = list_generate('t')\n",
    "\n",
    "map_a = map_generate(list_a, 128)\n",
    "map_c = map_generate(list_c, 128)\n",
    "map_g = map_generate(list_g, 128)\n",
    "map_t = map_generate(list_t, 128)\n",
    "\n",
    "#rotate map_c 90°\n",
    "map_c = rotate_map(map_c, 1)\n",
    "\n",
    "#rotate map_g 180°\n",
    "map_g = rotate_map(map_g, 2)\n",
    "\n",
    "#rotate map_t 270°\n",
    "map_t = rotate_map(map_t, 3)\n",
    "\n",
    "print_map('arr_A', map_a)\n",
    "print_map('arr_C', map_c)\n",
    "print_map('arr_G', map_g)\n",
    "print_map('arr_T', map_t)"
   ]
  }
 ],
 "metadata": {
  "kernelspec": {
   "display_name": "Python 3",
   "language": "python",
   "name": "python3"
  },
  "language_info": {
   "codemirror_mode": {
    "name": "ipython",
    "version": 3
   },
   "file_extension": ".py",
   "mimetype": "text/x-python",
   "name": "python",
   "nbconvert_exporter": "python",
   "pygments_lexer": "ipython3",
   "version": "3.7.7"
  }
 },
 "nbformat": 4,
 "nbformat_minor": 4
}
