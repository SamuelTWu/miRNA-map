{
 "cells": [
  {
   "cell_type": "markdown",
   "metadata": {},
   "source": [
    "## Welcome to the miRNA Heatmap. The goal of this project is as follows:\n",
    "\n",
    "1) Display 8-length sequences of 'A', 'T', 'G', 'C', in a 2d map\n",
    "\n",
    "2) create heatmap of known miRNA using the 2d array\n",
    "\n",
    "Lets import some librarys and then we can get started!"
   ]
  },
  {
   "cell_type": "code",
   "execution_count": 2,
   "metadata": {},
   "outputs": [],
   "source": [
    "import pandas as pd\n",
    "\n",
    "from matplotlib import pyplot as plt\n",
    "import numpy as np\n",
    "from collections import Counter\n",
    "\n"
   ]
  },
  {
   "cell_type": "markdown",
   "metadata": {},
   "source": [
    "The challenge of creating a 2d array of sequences is deciding how to organize it. We started by deciding that each corner would correspond to a particular nucleotide. To accomplish this, I created a fucntion that generates the different ATGC strings and sorts them according to the frequency of a given character. The Counter(str) function below counts the frequency of each character in the str, and adds it to an array if it is above a given threshold. Keep in mind, if the frequency of each character is the same, the first occuring character is considered the most frequent. By the nature of how the string are generated, this means that the same number of strings will be added to each array. \n",
    "\n",
    "Note the 'sorted()' function in the return line. This function sorts the array by frequency of a character, for example, if we are generating sequences with precedence 't', then 'tttttttt' would be sorted to the front of the list, followed by 'ttttttta' and 'tttttttc' and so on. "
   ]
  },
  {
   "cell_type": "code",
   "execution_count": 220,
   "metadata": {},
   "outputs": [],
   "source": [
    "#Generate tables (the order of the char in arr will affect the list outputted)\n",
    "\n",
    "def list_generate(char):\n",
    "    arr = ['a','t','c','g']\n",
    "    list_= []\n",
    "\n",
    "    for a in arr:\n",
    "        for b in arr:\n",
    "            for c in arr:\n",
    "                for d in arr:\n",
    "                    for e in arr:\n",
    "                        for f in arr:\n",
    "                            for g in arr:\n",
    "                                for h in arr:\n",
    "                                    str = a+b+c+d+e+f+g+h\n",
    "                                    res = Counter(str)\n",
    "                                    res = max(res, key = res.get)\n",
    "                                    if(res==char):\n",
    "                                        list_.append(str)\n",
    "                                    \n",
    "    #sort the array by char frequency\n",
    "\n",
    "    return sorted(list_, key = lambda ele: -ele.count(char))\n"
   ]
  },
  {
   "attachments": {
    "fig%201.png": {
     "image/png": "[encoded data removed]"
    }
   },
   "cell_type": "markdown",
   "metadata": {},
   "source": [
    "We now have 4 1d arrays containing all 65,536 sequences. In order to display them in a map, however, we have to convert the 1d arrays into a 2d representation. Because we have sorted them by frequency, we can fill a 2d array starting in the top left corner and filling in the diagnals, as shown in the picture below. \n",
    "![fig%201.png](attachment:fig%201.png)\n",
    "\n",
    "To do this, we simply iterate through the table and sum(row, col). The sum(row, col) corresponds to the diagnals of the array, which we can fill linearly with the array from before."
   ]
  },
  {
   "cell_type": "code",
   "execution_count": 221,
   "metadata": {},
   "outputs": [],
   "source": [
    "#generate 2d array from 1d list, print to .csv\n",
    "def map_generate(list_, table_size):\n",
    "    map_ = [[0 for i in range(table_size)] for j in range(table_size)]\n",
    "    counter = 0;\n",
    "    number = 0\n",
    "    \n",
    "    while(number < table_size*2):\n",
    "        for i in range(0,table_size):\n",
    "            for j in range(0,table_size):\n",
    "                if (j+i==number):\n",
    "                    map_[i][j]=list_[counter]\n",
    "                    counter+=1\n",
    "        number+=1\n",
    "    return map_"
   ]
  },
  {
   "cell_type": "markdown",
   "metadata": {},
   "source": [
    "We now can print each array out in the form of a spreadsheet (.csv). "
   ]
  },
  {
   "cell_type": "code",
   "execution_count": 224,
   "metadata": {},
   "outputs": [],
   "source": [
    "#print map\n",
    "def print_map(filename, map_):\n",
    "    df=pd.DataFrame(map_)\n",
    "    df.to_csv(filename+'.csv', index= False, header = False)\n"
   ]
  },
  {
   "cell_type": "markdown",
   "metadata": {},
   "source": [
    "We're almost done, however, due to the way we generated each 2d array, the top left corner of each spreadsheet contains the homopolymer ('tttttttt', 'cccccccc', 'gggggggg', 'aaaaaaaa') and gets filed outward from there. In order to complete the full map, we must rotate the spreadsheets to correspond to the 4 corners of the map. To do this, we use some simple matrix multiplication to rotate the spreadsheets. "
   ]
  },
  {
   "cell_type": "code",
   "execution_count": 232,
   "metadata": {},
   "outputs": [],
   "source": [
    "#print 90 deg anticlockwise rotation of matrix\n",
    "def rotate_map(map_, rotations):\n",
    "    df= pd.DataFrame(map_)\n",
    "    for i in range(0,rotations%4):\n",
    "        df = df.T\n",
    "        df = df.loc[::-1]\n",
    "    return df\n",
    "\n"
   ]
  },
  {
   "cell_type": "markdown",
   "metadata": {},
   "source": [
    "We're finally ready to generate the full map. To do this, we generate each map separately, then rotate the spreadsheets accordingly, and stitch them back together (ideally, I would write some code to stitch them together, but for now I just copy and paste them together manually. It wouldn't be that hard to write, I'm just lazy). "
   ]
  },
  {
   "cell_type": "code",
   "execution_count": 234,
   "metadata": {},
   "outputs": [],
   "source": [
    "#\n",
    "list_a = list_generate('a')\n",
    "list_c = list_generate('c')\n",
    "list_g = list_generate('g')\n",
    "list_t = list_generate('t')\n",
    "\n",
    "map_a = map_generate(list_a, 128)\n",
    "map_c = map_generate(list_c, 128)\n",
    "map_g = map_generate(list_g, 128)\n",
    "map_t = map_generate(list_t, 128)\n",
    "\n",
    "#rotate map_c 90°\n",
    "map_c = rotate_map(map_c, 1)\n",
    "\n",
    "#rotate map_g 180°\n",
    "map_g = rotate_map(map_g, 2)\n",
    "\n",
    "#rotate map_t 270°\n",
    "map_t = rotate_map(map_t, 3)\n",
    "\n",
    "print_map('arr_A', map_a)\n",
    "print_map('arr_C', map_c)\n",
    "print_map('arr_G', map_g)\n",
    "print_map('arr_T', map_t)"
   ]
  },
  {
   "cell_type": "markdown",
   "metadata": {},
   "source": [
    "Now that we have our completed map, we can use Seaborn to convert it into a heatmap."
   ]
  },
  {
   "cell_type": "code",
   "execution_count": 14,
   "metadata": {},
   "outputs": [
    {
     "name": "stdout",
     "output_type": "stream",
     "text": [
      "          0         1         2         3         4         5         6    \\\n",
      "0    aaaaaaaa  aaaaaaat  aaaaaaag  aaaaaaga  aaaataaa  aaagaaaa  agaaaaaa   \n",
      "1    aaaaaaac  aaaaaata  aaaaataa  aaaacaaa  aataaaaa  taaaaaaa  aaaaaacc   \n",
      "2    aaaaaaca  aaaaacaa  aaaagaaa  aacaaaaa  caaaaaaa  aaaaaacg  aaaaatca   \n",
      "3    aaaaagaa  aaataaaa  aagaaaaa  gaaaaaaa  aaaaaagt  aaaaatga  aaaaagag   \n",
      "4    aaacaaaa  ataaaaaa  aaaaaatt  aaaaaagc  aaaaacat  aaaaagta  aaaatcaa   \n",
      "..        ...       ...       ...       ...       ...       ...       ...   \n",
      "251  cccctccc  ccccccct  cgcccccc  acccaccc  acccccgc  tccacccc  tcccccgc   \n",
      "252  cctccccc  cccccacc  cccccccg  gccccccc  accctccc  accccgcc  tcctcccc   \n",
      "253  cacccccc  cccacccc  ccccctcc  ccccccgc  aacccccc  accccacc  acccgccc   \n",
      "254  accccccc  ctcccccc  ccctcccc  ccccccac  cccccgcc  atcccccc  acccctcc   \n",
      "255  cccccccc  tccccccc  ccaccccc  ccccaccc  cccccctc  ccccgccc  acaccccc   \n",
      "\n",
      "          7         8         9    ...       246       247       248  \\\n",
      "0    aaaaaact  aaaaatag  aaaaacga  ...  tattttct  actttttt  atttttgt   \n",
      "1    aaaaatta  aaaaagat  aaaataca  ...  ttaatttt  tatttttg  atgttttt   \n",
      "2    aaaaagac  aaaataga  aaaaccaa  ...  ttatcttt  tagttttt  tatttttc   \n",
      "3    aaaattaa  aaaacgaa  aaataaag  ...  tttatctt  ttattgtt  tacttttt   \n",
      "4    aaaagaat  aaataata  aaacaaca  ...  tttttaat  tttattgt  ttattctt   \n",
      "..        ...       ...       ...  ...       ...       ...       ...   \n",
      "251  cacccacc  cttccccc  ctccgccc  ...  gaggtggg  cgggggag  cgaggggg   \n",
      "252  tccccgcc  caccctcc  ctcacccc  ...  cggggcgg  ccgggggg  tggggagg   \n",
      "253  tcccaccc  tcccgccc  caccccac  ...  ctgggggg  tgggcggg  ttgggggg   \n",
      "254  accgcccc  tccctccc  tccgcccc  ...  tgggtggg  tagggggg  aggggagg   \n",
      "255  acccccac  acgccccc  tccccacc  ...  aggggggc  agggcggg  agaggggg   \n",
      "\n",
      "          249       250       251       252       253       254       255  \n",
      "0    attatttt  ttgttttt  tttttgtt  tttttttc  ttttattt  tatttttt  tttttttt  \n",
      "1    atttttct  atattttt  ttcttttt  tttttctt  ttttttta  tttatttt  attttttt  \n",
      "2    atcttttt  attttttg  aatttttt  tttgtttt  ttttttgt  ttttttat  ttattttt  \n",
      "3    tattttta  attgtttt  attttttc  gttttttt  tttctttt  ttttttct  tttttatt  \n",
      "4    tatgtttt  tattttat  attctttt  atttttta  cttttttt  ttttgttt  tttttttg  \n",
      "..        ...       ...       ...       ...       ...       ...       ...  \n",
      "251  tggggtgg  tgaggggg  agggggag  aggtgggg  aagggggg  ggggggag  ggggtggg  \n",
      "252  tcgggggg  aggggcgg  aggagggg  gggggggc  gggggcgg  ggggaggg  ggcggggg  \n",
      "253  aggggtgg  agcggggg  gggggggt  gggggtgg  gggcgggg  ggtggggg  gtgggggg  \n",
      "254  agtggggg  ggggggga  gggggagg  gggtgggg  ggaggggg  gagggggg  tggggggg  \n",
      "255  ggggggcg  ggggcggg  gggagggg  gcgggggg  cggggggg  aggggggg  gggggggg  \n",
      "\n",
      "[256 rows x 256 columns]\n"
     ]
    }
   ],
   "source": [
    "df = pd.read_csv(\"ATGC.csv\", header = None)\n",
    "print(df)\n",
    "\n",
    "\n"
   ]
  }
 ],
 "metadata": {
  "kernelspec": {
   "display_name": "Python 3",
   "language": "python",
   "name": "python3"
  },
  "language_info": {
   "codemirror_mode": {
    "name": "ipython",
    "version": 3
   },
   "file_extension": ".py",
   "mimetype": "text/x-python",
   "name": "python",
   "nbconvert_exporter": "python",
   "pygments_lexer": "ipython3",
   "version": "3.7.7"
  }
 },
 "nbformat": 4,
 "nbformat_minor": 4
}
