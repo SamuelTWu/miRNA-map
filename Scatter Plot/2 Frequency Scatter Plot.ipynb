{
 "cells": [
  {
   "cell_type": "markdown",
   "metadata": {},
   "source": [
    "## 2 Frequency Scatter Plot\n",
    "The purpose of this plot is to show the relationship between the frquency of 7mers in the 3'UTRs and mature data. In the future, I want to also include the frequency of each nucleotide in the sequence for categorization."
   ]
  },
  {
   "cell_type": "code",
   "execution_count": 33,
   "metadata": {},
   "outputs": [
    {
     "ename": "SyntaxError",
     "evalue": "invalid syntax (<ipython-input-33-1847a0738296>, line 3)",
     "output_type": "error",
     "traceback": [
      "\u001b[1;36m  File \u001b[1;32m\"<ipython-input-33-1847a0738296>\"\u001b[1;36m, line \u001b[1;32m3\u001b[0m\n\u001b[1;33m    conda install seaborn=0.11\u001b[0m\n\u001b[1;37m                ^\u001b[0m\n\u001b[1;31mSyntaxError\u001b[0m\u001b[1;31m:\u001b[0m invalid syntax\n"
     ]
    }
   ],
   "source": [
    "import pandas as pd\n",
    "import seaborn as sns"
   ]
  },
  {
   "cell_type": "markdown",
   "metadata": {},
   "source": [
    "Step one is to create a table of readable data. For this, I will first convert the 7mer 2D map into a 1D list. "
   ]
  },
  {
   "cell_type": "code",
   "execution_count": 16,
   "metadata": {},
   "outputs": [],
   "source": [
    "df = pd.read_csv(\"AGTC-7seq.csv\", header = None)\n",
    "df =pd.DataFrame(np.array(df).flatten())\n",
    "df.to_csv('flatten_AGTC-7seq.csv', index= False, header = False)"
   ]
  },
  {
   "cell_type": "markdown",
   "metadata": {},
   "source": [
    "Now lets do the same thing with the 3'UTR frequency"
   ]
  },
  {
   "cell_type": "code",
   "execution_count": 17,
   "metadata": {},
   "outputs": [],
   "source": [
    "df = pd.read_csv(\"3'UTR Frequency.csv\", header = None)\n",
    "df =pd.DataFrame(np.array(df).flatten())\n",
    "df.to_csv(\"flatten_3' UTR Frequency.csv\", index= False, header = False)"
   ]
  },
  {
   "cell_type": "markdown",
   "metadata": {},
   "source": [
    "As DJ Khalid says, \"Another one!\", this time with Reverse_Dre_Mature_Frequency"
   ]
  },
  {
   "cell_type": "code",
   "execution_count": 18,
   "metadata": {},
   "outputs": [],
   "source": [
    "df = pd.read_csv(\"Reverse_Dre_Mature_Frequency.csv\", header = None)\n",
    "df =pd.DataFrame(np.array(df).flatten())\n",
    "df.to_csv(\"flatten_Reverse_Dre_Mature_Frequency.csv\", index= False, header = False)"
   ]
  },
  {
   "cell_type": "markdown",
   "metadata": {},
   "source": [
    "Ok, now lets combine the spreadsheets together (TODO: Automate this process. For now, I'm copying and pasting)"
   ]
  },
  {
   "cell_type": "code",
   "execution_count": null,
   "metadata": {},
   "outputs": [],
   "source": []
  },
  {
   "cell_type": "markdown",
   "metadata": {},
   "source": [
    "The final file is frequency_7mer.csv. We can now use seaborne to make the scatter plot. "
   ]
  },
  {
   "cell_type": "code",
   "execution_count": 85,
   "metadata": {},
   "outputs": [
    {
     "data": {
      "image/png": "[encoded data removed]",
      "text/plain": [
       "<Figure size 360x360 with 1 Axes>"
      ]
     },
     "metadata": {},
     "output_type": "display_data"
    }
   ],
   "source": [
    "sns.set(style=\"whitegrid\")\n",
    "\n",
    "\n",
    "# Load the frequency_7mer dataset\n",
    "sequence_data = pd.read_csv(\"frequency_7mer.csv\")\n",
    "\n",
    "cmap = sns.cubehelix_palette(rot=-.2, as_cmap=True)\n",
    "g = sns.relplot(\n",
    "    data=sequence_data,\n",
    "    x=\"Seed Frequency\", \n",
    "    y=\"Mature Frequency\",\n",
    "    palette=cmap)\n",
    "\n",
    "plt.xscale('log', basex=2)\n",
    "plt.yscale('linear')\n",
    "\n",
    "g.despine(left=True, bottom=True)\n",
    "g.savefig(\"frequency_7mer scatter plot.png\") "
   ]
  }
 ],
 "metadata": {
  "kernelspec": {
   "display_name": "Python 3",
   "language": "python",
   "name": "python3"
  },
  "language_info": {
   "codemirror_mode": {
    "name": "ipython",
    "version": 3
   },
   "file_extension": ".py",
   "mimetype": "text/x-python",
   "name": "python",
   "nbconvert_exporter": "python",
   "pygments_lexer": "ipython3",
   "version": "3.7.7"
  }
 },
 "nbformat": 4,
 "nbformat_minor": 4
}
