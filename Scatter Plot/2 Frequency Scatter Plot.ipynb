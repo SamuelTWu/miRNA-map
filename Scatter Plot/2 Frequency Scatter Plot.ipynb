{
 "cells": [
  {
   "cell_type": "markdown",
   "metadata": {},
   "source": [
    "## 2 Frequency Scatter Plot\n",
    "The purpose of this plot is to show the relationship between the frquency of 7mers in the 3'UTRs and mature data. In the future, I want to also include the frequency of each nucleotide in the sequence for categorization."
   ]
  },
  {
   "cell_type": "code",
   "execution_count": 2,
   "metadata": {},
   "outputs": [],
   "source": [
    "import pandas as pd\n",
    "import seaborn as sns\n",
    "import numpy as np\n",
    "from matplotlib import pyplot as plt"
   ]
  },
  {
   "cell_type": "markdown",
   "metadata": {},
   "source": [
    "Step one is to create a table of readable data. For this, I will first convert the 7mer 2D map into a 1D list. "
   ]
  },
  {
   "cell_type": "code",
   "execution_count": 3,
   "metadata": {},
   "outputs": [],
   "source": [
    "df = pd.read_csv(\"AGTC-7seq.csv\", header = None)\n",
    "df =pd.DataFrame(np.array(df).flatten())\n",
    "df.to_csv('flatten_AGTC-7seq.csv', index= False, header = False)"
   ]
  },
  {
   "cell_type": "markdown",
   "metadata": {},
   "source": [
    "Now lets do the same thing with the 3'UTR frequency"
   ]
  },
  {
   "cell_type": "code",
   "execution_count": 4,
   "metadata": {},
   "outputs": [],
   "source": [
    "df = pd.read_csv(\"3'UTR Frequency.csv\", header = None)\n",
    "df =pd.DataFrame(np.array(df).flatten())\n",
    "df.to_csv(\"flatten_3' UTR Frequency.csv\", index= False, header = False)"
   ]
  },
  {
   "cell_type": "markdown",
   "metadata": {},
   "source": [
    "Using that as a dictionary, we can now collect the abundance of 7mer sequences in the dre_mature miRNA and compare that to the abundance of the reverse complement in the zebrafish genome. I've combined the two tables into one table titled \"Seed Match Abundance Data\""
   ]
  },
  {
   "cell_type": "markdown",
   "metadata": {},
   "source": [
    "Now, lets first count the occurance of 7mer seeds in dre_mature miRNA. The following script takes dre_mature and returns a list of seeds corresponding to each miRNA."
   ]
  },
  {
   "cell_type": "code",
   "execution_count": 5,
   "metadata": {},
   "outputs": [],
   "source": [
    "from numpy import loadtxt\n",
    "import pandas as pd\n",
    "def getSeed(filename, x1, x2):\n",
    "    #import file\n",
    "    filename_data = loadtxt(filename+\".txt\", comments=\">\", delimiter=\"\\z\",dtype=\"str\")\n",
    "    \n",
    "    #substring from x1, x2\n",
    "    filename_data = [sub[x1:x2] for sub in filename_data]\n",
    "\n",
    "    return filename_data\n",
    "\n",
    "def print_text(filename, arr):\n",
    "    with open(filename+\".txt\", \"w+\") as file:\n",
    "        for item in arr:\n",
    "            file.write(\"%s\\n\" % item)\n",
    "    file.close()\n",
    "\n",
    "print_text(\"dre_mature_seeds\", getSeed(\"dre_mature\", 1,8))"
   ]
  },
  {
   "cell_type": "markdown",
   "metadata": {},
   "source": [
    "Now we have to count the number of occurances of each string. To do this, lets first create a dictionary of {Seed: Abundance}, then print the corresponding abundance for each seed. "
   ]
  },
  {
   "cell_type": "code",
   "execution_count": 6,
   "metadata": {},
   "outputs": [],
   "source": [
    "import csv\n",
    "def makeSeedDict(filename):\n",
    "    filename_data = loadtxt(filename+\".txt\", comments=\">\", delimiter=\"\\z\",dtype=\"str\")\n",
    "    count={}\n",
    "    for c in filename_data:\n",
    "        count[c]=count.setdefault(c, 0)+1\n",
    "        \n",
    "    with open(filename+' dict.csv', 'w') as csvfile:\n",
    "        for key in count.keys():\n",
    "            csvfile.write(\"%s, %s\\n\" % (key, count[key]))\n",
    "    \n",
    "makeSeedDict(\"dre_mature_seeds\")"
   ]
  },
  {
   "cell_type": "markdown",
   "metadata": {},
   "source": [
    "Now we can generate the list of seed matches (reverse complements) and do the same process again. Below, I generate the list of seed matches. "
   ]
  },
  {
   "cell_type": "code",
   "execution_count": 7,
   "metadata": {},
   "outputs": [],
   "source": [
    "from numpy import loadtxt\n",
    "import pandas as pd\n",
    "def reverse_compliment(filename):\n",
    "    #import file\n",
    "    filename_data = loadtxt(filename+\".txt\", comments=\">\", delimiter=\"\\z\",dtype=\"str\")\n",
    "\n",
    "    #Replace A with X\n",
    "    filename_data = [sub.replace('A', 'X') for sub in filename_data]\n",
    "    \n",
    "    #Replace U with A\n",
    "    filename_data = [sub.replace('U', 'A') for sub in filename_data]\n",
    "    \n",
    "    #Replace X with U\n",
    "    filename_data = [sub.replace('X', 'U') for sub in filename_data]\n",
    "    \n",
    "    #Replace C with X\n",
    "    filename_data = [sub.replace('C', 'X') for sub in filename_data]\n",
    "    \n",
    "    #Replace G with C\n",
    "    filename_data = [sub.replace('G', 'C') for sub in filename_data]\n",
    "    \n",
    "    #Replace X with G\n",
    "    filename_data = [sub.replace('X', 'G') for sub in filename_data]\n",
    "    \n",
    "    #Reverse all the strings\n",
    "    filename_data_reverse = [sub[::-1] for sub in filename_data]\n",
    "    \n",
    "    return filename_data_reverse\n",
    "\n",
    "def print_text(filename, arr):\n",
    "    with open(filename+\".txt\", \"w+\") as file:\n",
    "        for item in arr:\n",
    "            file.write(\"%s\\n\" % item)\n",
    "    file.close()\n",
    "\n",
    "print_text(\"reverse_mature_seeds\", reverse_compliment(\"dre_mature_seeds\"))"
   ]
  },
  {
   "cell_type": "markdown",
   "metadata": {},
   "source": [
    "Instead of counting their abundance in the list, we will pull their abundance from the zebrafish genome. "
   ]
  },
  {
   "cell_type": "code",
   "execution_count": 9,
   "metadata": {},
   "outputs": [],
   "source": [
    "import csv\n",
    "\n",
    "def get_dict(filename):\n",
    "    dict_from_csv = {}\n",
    "\n",
    "    with open(filename+'.csv', mode='r') as inp:\n",
    "        reader = csv.reader(inp)\n",
    "        dict_from_csv = {rows[0]:rows[1] for rows in reader}\n",
    "    return dict_from_csv\n",
    "\n",
    "def makeMatchDict(filename):\n",
    "    filename_data = loadtxt(filename+\".txt\", comments=\">\", delimiter=\"\\z\",dtype=\"str\")\n",
    "    matchData = get_dict(\"Seed Match Abundance Data\")\n",
    "    count={}\n",
    "    for c in filename_data:\n",
    "        count[c]=matchData[c]\n",
    "        \n",
    "    with open(filename+' dict.csv', 'w') as csvfile:\n",
    "        for key in count.keys():\n",
    "            csvfile.write(\"%s, %s\\n\" % (key, count[key]))\n",
    "makeMatchDict(\"reverse_mature_seeds\")"
   ]
  },
  {
   "cell_type": "markdown",
   "metadata": {},
   "source": [
    "Ok, now lets combine the spreadsheets together into the \"dre_mature abundance data\" (TODO: Automate this process. For now, I'm copying and pasting)"
   ]
  },
  {
   "cell_type": "code",
   "execution_count": null,
   "metadata": {},
   "outputs": [],
   "source": []
  },
  {
   "cell_type": "markdown",
   "metadata": {},
   "source": [
    "The final file is frequency_7mer.csv. We can now use seaborne to make the scatter plot. "
   ]
  },
  {
   "cell_type": "code",
   "execution_count": 11,
   "metadata": {},
   "outputs": [
    {
     "data": {
      "image/png": "[encoded data removed]",
      "text/plain": [
       "<Figure size 360x360 with 1 Axes>"
      ]
     },
     "metadata": {},
     "output_type": "display_data"
    }
   ],
   "source": [
    "sns.set(style=\"whitegrid\")\n",
    "\n",
    "\n",
    "# Load the frequency_7mer dataset\n",
    "sequence_data = pd.read_csv(\"dre_mature abundance data.csv\")\n",
    "\n",
    "g = sns.relplot(\n",
    "    data=sequence_data,\n",
    "    x=\"Seed Match abundance\", \n",
    "    y=\"miRNA abundance\")\n",
    "plt.xscale('log', basex=2)\n",
    "plt.yscale('log', basey=2)\n",
    "\n",
    "\n",
    "\n",
    "\n",
    "g.savefig(\"frequency_7mer scatter plot.png\") "
   ]
  }
 ],
 "metadata": {
  "kernelspec": {
   "display_name": "Python 3",
   "language": "python",
   "name": "python3"
  },
  "language_info": {
   "codemirror_mode": {
    "name": "ipython",
    "version": 3
   },
   "file_extension": ".py",
   "mimetype": "text/x-python",
   "name": "python",
   "nbconvert_exporter": "python",
   "pygments_lexer": "ipython3",
   "version": "3.7.7"
  }
 },
 "nbformat": 4,
 "nbformat_minor": 4
}
