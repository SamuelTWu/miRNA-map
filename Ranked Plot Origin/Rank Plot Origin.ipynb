{
 "cells": [
  {
   "cell_type": "markdown",
   "metadata": {},
   "source": [
    "## Ranked Plot Origin\n",
    "\n",
    "This plot shows the relationship between the origin of each Zebrafish mature seed and the abundance of the seed in the Zebrafish genome. The color of each line represents the origin and the x axis represents the abundance. "
   ]
  },
  {
   "cell_type": "markdown",
   "metadata": {},
   "source": [
    "In preparation for this plot, I used a getSeed script to generate the 7mer seed of each sequence. "
   ]
  },
  {
   "cell_type": "code",
   "execution_count": null,
   "metadata": {},
   "outputs": [],
   "source": [
    "from numpy import loadtxt\n",
    "import pandas as pd\n",
    "def getSeed(filename, x1, x2):\n",
    "    #import file\n",
    "    filename_data = loadtxt(filename+\".txt\", comments=\">\", delimiter=\"\\z\",dtype=\"str\")\n",
    "    \n",
    "    #substring from x1, x2\n",
    "    filename_data = [sub[x1:x2] for sub in filename_data]\n",
    "\n",
    "    return filename_data\n",
    "\n",
    "def print_text(filename, arr):\n",
    "    with open(filename+\".txt\", \"w+\") as file:\n",
    "        for item in arr:\n",
    "            file.write(\"%s\\n\" % item)\n",
    "    file.close()\n",
    "    \n",
    "#print(reverse_compliment(\"dre_mature\", 1, 8))\n",
    "\n",
    "print_text(\"dre_mature_seeds\", getSeed(\"dre_mature\", 1,8))"
   ]
  },
  {
   "cell_type": "markdown",
   "metadata": {},
   "source": [
    "I also pull the MirGeneDB ID for each mature sequence. The sequences are formatted with s \">\" character to begin the string and a \"/n\" at the end, so those are removed. They also contain the identifyer of either \"_3p\" or \"_5p\", which is not included in the MirGeneDB ID for the node of origin, so those are removed as well. "
   ]
  },
  {
   "cell_type": "code",
   "execution_count": 29,
   "metadata": {},
   "outputs": [],
   "source": [
    "from numpy import loadtxt\n",
    "import pandas as pd\n",
    "def getID(filename):\n",
    "    #import file\n",
    "    data = [];\n",
    "    cnt = 1;\n",
    "    with open(filename+\".txt\", 'r') as infile:\n",
    "        for line in infile:\n",
    "            if cnt%2 == 1:\n",
    "                data.append(line.replace(\">\",\"\").replace(\"\\n\",\"\")[:-3])\n",
    "            cnt+=1\n",
    "    \n",
    "    return data\n",
    "\n",
    "def print_text(filename, arr):\n",
    "    with open(filename+\".txt\", \"w+\") as file:\n",
    "        for item in arr:\n",
    "            file.write(\"%s\\n\" % item)\n",
    "    file.close()\n",
    "    \n",
    "#print(getID(\"dre_mature\"))\n",
    "\n",
    "print_text(\"dre_mature_IDs\", getID(\"dre_mature\"))"
   ]
  },
  {
   "cell_type": "markdown",
   "metadata": {},
   "source": [
    "I then added that data as a column in the Mature Abundance Data (from the Bar Ranked Plot) to create dre_mature_origin_abundance.csv. We also use seed_origin.csv to generate the dictionary of all the origins. Below is the script that prints the origin associated with each seed."
   ]
  },
  {
   "cell_type": "code",
   "execution_count": 76,
   "metadata": {},
   "outputs": [],
   "source": [
    "import csv\n",
    "from numpy import loadtxt\n",
    "def get_dict(filename):\n",
    "    dict_from_csv = {}\n",
    "\n",
    "    with open(filename+'.csv', mode='r') as inp:\n",
    "        reader = csv.reader(inp)\n",
    "        dict_from_csv = {rows[0]:rows[1] for rows in reader}\n",
    "    return dict_from_csv\n",
    "\n",
    "mature_seed = loadtxt(\"dre_mature_IDs.txt\", delimiter=\"\\z\",dtype=\"str\")\n",
    "origin_dict = get_dict(\"seed_origin\")\n",
    "\n",
    "out_arr = []\n",
    "\n",
    "for i in mature_seed:\n",
    "    if i in origin_dict:\n",
    "        out_arr.append(origin_dict[i])\n",
    "    else:\n",
    "        out_arr.append(\"None\")\n",
    "print_text(\"mature_seed_origin\", out_arr)"
   ]
  },
  {
   "cell_type": "markdown",
   "metadata": {},
   "source": [
    "Lets now do the same with the abundance data"
   ]
  },
  {
   "cell_type": "code",
   "execution_count": 87,
   "metadata": {
    "scrolled": false
   },
   "outputs": [],
   "source": [
    "import csv\n",
    "from numpy import loadtxt\n",
    "def get_dict(filename):\n",
    "    dict_from_csv = {}\n",
    "\n",
    "    with open(filename+'.csv', mode='r') as inp:\n",
    "        reader = csv.reader(inp)\n",
    "        dict_from_csv = {rows[0]:rows[1] for rows in reader}\n",
    "    return dict_from_csv\n",
    "\n",
    "mature_seed = loadtxt(\"dre_mature_seeds.txt\", delimiter=\"\\z\",dtype=\"str\")\n",
    "abundance_dict = get_dict(\"7seed_abundance\")\n",
    "out_arr = []\n",
    "\n",
    "for i in mature_seed:\n",
    "    out_arr.append(abundance_dict[i])\n",
    "print_text(\"mature_seed_abundance\", out_arr)"
   ]
  },
  {
   "cell_type": "markdown",
   "metadata": {},
   "source": [
    "We can also do the same for the reverse compliments. First, we'll generate the reverse compliments from the dre_mature_seeds.txt, then we can generate the abundances from there as well. "
   ]
  },
  {
   "cell_type": "code",
   "execution_count": 79,
   "metadata": {},
   "outputs": [],
   "source": [
    "from numpy import loadtxt\n",
    "import pandas as pd\n",
    "def reverse_compliment(filename):\n",
    "    #import file\n",
    "    filename_data = loadtxt(filename+\".txt\", comments=\">\", delimiter=\"\\z\",dtype=\"str\")\n",
    "\n",
    "    #Replace A with X\n",
    "    filename_data = [sub.replace('A', 'X') for sub in filename_data]\n",
    "    \n",
    "    #Replace U with A\n",
    "    filename_data = [sub.replace('U', 'A') for sub in filename_data]\n",
    "    \n",
    "    #Replace X with U\n",
    "    filename_data = [sub.replace('X', 'U') for sub in filename_data]\n",
    "    \n",
    "    #Replace C with X\n",
    "    filename_data = [sub.replace('C', 'X') for sub in filename_data]\n",
    "    \n",
    "    #Replace G with C\n",
    "    filename_data = [sub.replace('G', 'C') for sub in filename_data]\n",
    "    \n",
    "    #Replace X with G\n",
    "    filename_data = [sub.replace('X', 'G') for sub in filename_data]\n",
    "    \n",
    "    #Reverse all the strings\n",
    "    filename_data_reverse = [sub[::-1] for sub in filename_data]\n",
    "    \n",
    "    return filename_data_reverse\n",
    "\n",
    "def print_text(filename, arr):\n",
    "    with open(filename+\".txt\", \"w+\") as file:\n",
    "        for item in arr:\n",
    "            file.write(\"%s\\n\" % item)\n",
    "    file.close()\n",
    "\n",
    "print_text(\"reverse_mature_seeds\", reverse_compliment(\"dre_mature_seeds\"))"
   ]
  },
  {
   "cell_type": "code",
   "execution_count": 86,
   "metadata": {},
   "outputs": [],
   "source": [
    "import csv\n",
    "from numpy import loadtxt\n",
    "def get_dict(filename):\n",
    "    dict_from_csv = {}\n",
    "\n",
    "    with open(filename+'.csv', mode='r') as inp:\n",
    "        reader = csv.reader(inp)\n",
    "        dict_from_csv = {rows[0]:rows[1] for rows in reader}\n",
    "    return dict_from_csv\n",
    "\n",
    "reverse_seeds = loadtxt(\"reverse_mature_seeds.txt\", delimiter=\"\\z\",dtype=\"str\")\n",
    "abundance_dict = get_dict(\"7seed_abundance\")\n",
    "out_arr = []\n",
    "\n",
    "for i in reverse_seeds:\n",
    "    out_arr.append(abundance_dict[i])\n",
    "print_text(\"reverse_mature_seed_abundance\", out_arr)"
   ]
  },
  {
   "cell_type": "markdown",
   "metadata": {},
   "source": [
    "Finally, we plot our data"
   ]
  },
  {
   "cell_type": "code",
   "execution_count": 85,
   "metadata": {
    "scrolled": true
   },
   "outputs": [
    {
     "data": {
      "image/png": "[encoded data removed]",
      "text/plain": [
       "<Figure size 1080x360 with 2 Axes>"
      ]
     },
     "metadata": {
      "needs_background": "light"
     },
     "output_type": "display_data"
    },
    {
     "data": {
      "image/png": "[encoded data removed]",
      "text/plain": [
       "<Figure size 1080x360 with 2 Axes>"
      ]
     },
     "metadata": {
      "needs_background": "light"
     },
     "output_type": "display_data"
    }
   ],
   "source": [
    "import matplotlib.pyplot as plt\n",
    "import matplotlib as mpl\n",
    "import numpy as np\n",
    "from numpy import loadtxt\n",
    "import pandas as pd\n",
    "import matplotlib.colors as colors\n",
    "\n",
    "def getColor(origin):\n",
    "    if(origin=='D. rerio'):\n",
    "        return '#ed5813'\n",
    "    if(origin=='Clupeocephala'):\n",
    "        return '#edba13'\n",
    "    if(origin=='Neopterygii'):\n",
    "        return '#f2fa05'\n",
    "    if(origin=='Osteichthyes'):\n",
    "        return '#b9eb7c'\n",
    "    if(origin=='Gnathostomata'):\n",
    "        return '#22bf06'\n",
    "    if(origin=='Vertebrata'):\n",
    "        return '#64b098'\n",
    "    if(origin=='Olfactores'):\n",
    "        return '#30f0ed'\n",
    "    if(origin=='Chordata'):\n",
    "        return '#1695f0'\n",
    "    if(origin=='Deuterostomia'):\n",
    "        return '#161df0'\n",
    "    if(origin=='Bilateria'):\n",
    "        return '#b916f0'\n",
    "    if(origin=='Eumetazoa'):\n",
    "        return 'brown'\n",
    "    else:\n",
    "        return \"black\"\n",
    "    \n",
    "def make_rank_plot(filename):\n",
    "    #import the zebrafish dictionary\n",
    "    df = pd.read_csv(filename + \".csv\")    \n",
    "\n",
    "    fig = plt.figure(figsize=(15, 5))\n",
    "    ax = plt.gca()\n",
    "    ax.invert_xaxis()\n",
    "\n",
    "    for ind in df.index:\n",
    "        plt.axvline(x=df['abundance (Seed)'][ind], color = getColor(df['Origin'][ind]) )\n",
    "        \n",
    "    cmap = colors.ListedColormap(['black', '#ed5813','#edba13', '#f2fa05', '#b9eb7c', '#22bf06', '#64b098', '#30f0ed', '#1695f0', '#161df0', '#b916f0', 'brown'])\n",
    "    bounds=[-.5, 0.5, 1.5, 2.5, 3.5, 4.5, 5.5, 6.5, 7.5, 8.5, 9.5, 10.5, 11.5]\n",
    "    norm = colors.BoundaryNorm(bounds, cmap.N)\n",
    "\n",
    "    cbar = fig.colorbar(mpl.cm.ScalarMappable(norm=norm, cmap=cmap),orientation='horizontal', label='Origin')\n",
    "    cbar.set_ticks([0,1,2,3,4,5,6,7,8,9,10,11])\n",
    "    cbar.set_ticklabels(['None','D. rerio','Clupeocephala','Neopterygii','Osteichthyes','Gnathostomata','Vertebrata','Olfactores','Chordata','Deuterostomia','Bilateria','Eumetazoa'])\n",
    "    \n",
    "    plt.title(\"miRNA Abundance\")\n",
    "   \n",
    "   \n",
    "    fig = plt.figure(figsize=(15, 5))\n",
    "    ax = plt.gca()\n",
    "    ax.invert_xaxis()\n",
    "\n",
    "    for ind in df.index:\n",
    "        plt.axvline(x=df['abundance (reverse)'][ind], color = getColor(df['Origin'][ind]) )\n",
    "        \n",
    "    cmap = colors.ListedColormap(['black', '#ed5813','#edba13', '#f2fa05', '#b9eb7c', '#22bf06', '#64b098', '#30f0ed', '#1695f0', '#161df0', '#b916f0', 'brown'])\n",
    "    bounds=[-.5, 0.5, 1.5, 2.5, 3.5, 4.5, 5.5, 6.5, 7.5, 8.5, 9.5, 10.5, 11.5]\n",
    "    norm = colors.BoundaryNorm(bounds, cmap.N)\n",
    "\n",
    "    cbar = fig.colorbar(mpl.cm.ScalarMappable(norm=norm, cmap=cmap),orientation='horizontal', label='Origin')\n",
    "    cbar.set_ticks([0,1,2,3,4,5,6,7,8,9,10,11])\n",
    "    cbar.set_ticklabels(['None','D. rerio','Clupeocephala','Neopterygii','Osteichthyes','Gnathostomata','Vertebrata','Olfactores','Chordata','Deuterostomia','Bilateria','Eumetazoa'])\n",
    "    \n",
    "    plt.title(\"Seed Match Abundance\")\n",
    "    plt.savefig(filename+\" combined\")\n",
    "    plt.show()\n",
    "    \n",
    "\n",
    "make_rank_plot(\"dre_mature_origin_abundance\")"
   ]
  }
 ],
 "metadata": {
  "kernelspec": {
   "display_name": "Python 3",
   "language": "python",
   "name": "python3"
  },
  "language_info": {
   "codemirror_mode": {
    "name": "ipython",
    "version": 3
   },
   "file_extension": ".py",
   "mimetype": "text/x-python",
   "name": "python",
   "nbconvert_exporter": "python",
   "pygments_lexer": "ipython3",
   "version": "3.7.7"
  }
 },
 "nbformat": 4,
 "nbformat_minor": 4
}
